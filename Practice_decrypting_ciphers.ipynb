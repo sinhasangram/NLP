{
 "cells": [
  {
   "cell_type": "code",
   "execution_count": 10,
   "metadata": {},
   "outputs": [],
   "source": [
    "import numpy as np\n",
    "import string\n",
    "import requests\n",
    "import os\n",
    "import random\n",
    "import matplotlib.pyplot as plt\n",
    "import re\n",
    "import warnings\n",
    "warnings.filterwarnings('ignore')\n",
    "import textwrap"
   ]
  },
  {
   "cell_type": "code",
   "execution_count": 11,
   "metadata": {},
   "outputs": [],
   "source": [
    "# Markov laguage model initization\n",
    "\n",
    "M = np.ones((26,26))\n",
    "\n",
    "pi = np.zeros(26)"
   ]
  },
  {
   "cell_type": "code",
   "execution_count": 12,
   "metadata": {},
   "outputs": [],
   "source": [
    "# Initialzing english alphabets\n",
    "\n",
    "letters1 = list(string.ascii_lowercase)\n",
    "letters2 = list(string.ascii_lowercase)\n",
    "\n",
    "random.shuffle(letters2)\n",
    "\n",
    "true_mapping = {}\n",
    "\n",
    "for k , v in zip(letters1, letters2):\n",
    "    \n",
    "    true_mapping[k] = v\n",
    "    "
   ]
  },
  {
   "cell_type": "code",
   "execution_count": 13,
   "metadata": {},
   "outputs": [
    {
     "name": "stdout",
     "output_type": "stream",
     "text": [
      "{'a': 'o', 'b': 'l', 'c': 'i', 'd': 'e', 'e': 'f', 'f': 'u', 'g': 'p', 'h': 'j', 'i': 'h', 'j': 'a', 'k': 'y', 'l': 'q', 'm': 'g', 'n': 'm', 'o': 'c', 'p': 'r', 'q': 'x', 'r': 'v', 's': 'b', 't': 't', 'u': 'n', 'v': 's', 'w': 'w', 'x': 'k', 'y': 'z', 'z': 'd'}\n"
     ]
    }
   ],
   "source": [
    "print(true_mapping)"
   ]
  },
  {
   "cell_type": "code",
   "execution_count": 14,
   "metadata": {},
   "outputs": [],
   "source": [
    "# Creating function to update the language model with Markov model\n",
    "\n",
    "def transition_state(ch1,ch2):\n",
    "    i = ord(ch1) - 97\n",
    "    j = ord(ch2) - 97\n",
    "    M[i,j] += 1\n",
    "    \n",
    "def emmision_state(ch):\n",
    "    i = ord(ch) - 97\n",
    "    pi[i] += 1\n",
    "    \n",
    "    \n",
    "# Now calculating using probabilitic approach in logarithmic value\n",
    "\n",
    "\n",
    "def get_word_prob(word):\n",
    "    \n",
    "    i = ord(word[0]) - 97\n",
    "    logp = np.log(pi[i])\n",
    "    \n",
    "    for w in word[1:]:\n",
    "        \n",
    "        j = ord(w) - 97\n",
    "        \n",
    "        logp += np.log(M[i,j])\n",
    "        \n",
    "        i = j\n",
    "        \n",
    "    return logp\n",
    "\n",
    "\n",
    "def sequence_of_words(words):\n",
    "    \n",
    "    if type(words) == str:\n",
    "        words = words.split()\n",
    "        \n",
    "    logp = 0\n",
    "    \n",
    "    for word in words:\n",
    "        \n",
    "        logp += get_word_prob(word)\n",
    "        \n",
    "        \n",
    "    return logp"
   ]
  },
  {
   "cell_type": "code",
   "execution_count": 15,
   "metadata": {},
   "outputs": [],
   "source": [
    "# p(a,b) = p(a)*p(b|a)\n",
    "\n",
    "# log(p(a,b)) = log(p(a)*p(b|a))\n",
    "\n",
    "# log(p(a,b)) = log(p(a)) + log(p(b|a))"
   ]
  },
  {
   "cell_type": "code",
   "execution_count": 16,
   "metadata": {},
   "outputs": [],
   "source": [
    "# Loading text corpus \n",
    "\n",
    "\n",
    "regex = re.compile('[^a-zA-Z]')\n",
    "\n",
    "\n",
    "for line in open('sholmes.txt'):\n",
    "    line = line.rstrip()\n",
    "    \n",
    "    if line:\n",
    "        \n",
    "        line = regex.sub(' ', line) # Replace space with text\n",
    "        \n",
    "        tokens = line.lower().split()\n",
    "        \n",
    "        for token in tokens:\n",
    "            \n",
    "            # First Letter\n",
    "            ch = token[0]\n",
    "            emmision_state(ch)\n",
    "            \n",
    "            # For Others\n",
    "            for ch1 in token[1:]:\n",
    "                \n",
    "                transition_state(ch,ch1)\n",
    "                \n",
    "                ch = ch1     "
   ]
  },
  {
   "cell_type": "code",
   "execution_count": 17,
   "metadata": {},
   "outputs": [],
   "source": [
    "# Calculating probabilites(Normalizing)\n",
    "\n",
    "M /= M.sum(axis = 1, keepdims = True)\n",
    "\n",
    "pi /= pi.sum()"
   ]
  },
  {
   "cell_type": "code",
   "execution_count": 18,
   "metadata": {},
   "outputs": [],
   "source": [
    "# Encoding message and then decoding\n",
    "\n",
    "\n",
    "original_message = '''My cabby drove fast. I don't think I ever drove faster, but the others\n",
    "were there before us. The cab and the landau with their steaming horses\n",
    "were in front of the door when I arrived. I paid the man and hurried\n",
    "into the church. There was not a soul there save the two whom I had\n",
    "followed and a surpliced clergyman, who seemed to be expostulating with\n",
    "them. They were all three standing in a knot in front of the altar. I\n",
    "lounged up the side aisle like any other idler who has dropped into a\n",
    "church. Suddenly, to my surprise, the three at the altar faced round to\n",
    "me, and Godfrey Norton came running as hard as he could towards me.\n",
    "'''"
   ]
  },
  {
   "cell_type": "code",
   "execution_count": 19,
   "metadata": {},
   "outputs": [],
   "source": [
    "# Encoding message\n",
    "\n",
    "def encode_message(message):\n",
    "    \n",
    "    message = message.lower()\n",
    "    \n",
    "    message = regex.sub(\" \",message)\n",
    "    \n",
    "    coded_msg = []\n",
    "    \n",
    "    for ch in message:\n",
    "        coded_ch = ch\n",
    "        if ch in true_mapping:\n",
    "            coded_ch = true_mapping[ch]\n",
    "        \n",
    "        coded_msg.append(coded_ch)\n",
    "            \n",
    "            \n",
    "    return ''.join(coded_msg)      \n",
    "    \n",
    "            \n",
    "encoded_message = encode_message(original_message)"
   ]
  },
  {
   "cell_type": "code",
   "execution_count": 20,
   "metadata": {},
   "outputs": [
    {
     "name": "stdout",
     "output_type": "stream",
     "text": [
      "gz iollz evcsf uobt  h ecm t tjhmy h fsfv evcsf uobtfv  lnt tjf ctjfvb wfvf tjfvf lfucvf nb  tjf iol ome tjf qomeon whtj tjfhv btfoghmp jcvbfb wfvf hm uvcmt cu tjf eccv wjfm h ovvhsfe  h rohe tjf gom ome jnvvhfe hmtc tjf ijnvij  tjfvf wob mct o bcnq tjfvf bosf tjf twc wjcg h joe ucqqcwfe ome o bnvrqhife iqfvpzgom  wjc bffgfe tc lf fkrcbtnqothmp whtj tjfg  tjfz wfvf oqq tjvff btomehmp hm o ymct hm uvcmt cu tjf oqtov  h qcnmpfe nr tjf bhef ohbqf qhyf omz ctjfv heqfv wjc job evcrrfe hmtc o ijnvij  bneefmqz  tc gz bnvrvhbf  tjf tjvff ot tjf oqtov uoife vcnme tc gf  ome pceuvfz mcvtcm iogf vnmmhmp ob jove ob jf icnqe tcwoveb gf  \n"
     ]
    }
   ],
   "source": [
    "print(encoded_message)"
   ]
  },
  {
   "cell_type": "code",
   "execution_count": 21,
   "metadata": {},
   "outputs": [],
   "source": [
    "# Function to decode\n",
    "\n",
    "def decode_message(message, word_map):\n",
    "    \n",
    "    decoded_msg =[]\n",
    "    \n",
    "    for ch in message:\n",
    "        decoded_ch = ch\n",
    "        \n",
    "        if ch in word_map:\n",
    "            \n",
    "            decoded_ch = word_map[ch]\n",
    "            \n",
    "        decoded_msg.append(decoded_ch)\n",
    "        \n",
    "        \n",
    "    return ''.join(decoded_msg)"
   ]
  },
  {
   "cell_type": "code",
   "execution_count": 22,
   "metadata": {},
   "outputs": [],
   "source": [
    "# Using DNA Evolutionary algorithm to find the actual word map and decode the message\n",
    "\n",
    "\n",
    "dna_pool = []\n",
    "\n",
    "for _ in range(20):\n",
    "    dna = list(string.ascii_lowercase)\n",
    "    random.shuffle(dna)\n",
    "    dna_pool.append(dna)\n",
    "    \n",
    "    \n",
    "def offspring_creation(dna_pool, n_children):\n",
    "    \n",
    "    offspring = []\n",
    "    \n",
    "    for dna in dna_pool:\n",
    "        for _ in range(n_children):\n",
    "            copy = dna.copy()\n",
    "            j = np.random.randint(len(copy))\n",
    "            k = np.random.randint(len(copy))\n",
    "            \n",
    "            # Switch/Swap\n",
    "            \n",
    "            tmp = copy[j]\n",
    "            \n",
    "            copy[j] = copy[k]\n",
    "            \n",
    "            copy[k] = tmp\n",
    "            \n",
    "            offspring.append(copy)\n",
    "\n",
    "    return offspring + dna_pool\n",
    "\n"
   ]
  },
  {
   "cell_type": "code",
   "execution_count": 23,
   "metadata": {
    "scrolled": true
   },
   "outputs": [
    {
     "name": "stdout",
     "output_type": "stream",
     "text": [
      "iter: 0 score: -2754.6221323184227 best so far: -2448.2956401725373\n",
      "iter: 200 score: -1309.9362664981445 best so far: -1183.6663478139778\n",
      "iter: 400 score: -1274.841457986445 best so far: -1129.482429601682\n",
      "iter: 600 score: -1270.3197955237083 best so far: -1129.482429601682\n",
      "iter: 800 score: -1282.2409416504165 best so far: -1129.482429601682\n"
     ]
    }
   ],
   "source": [
    "num_iters = 1000\n",
    "\n",
    "scores = np.zeros(num_iters)\n",
    "\n",
    "best_map = None\n",
    "\n",
    "best_score = float('-inf')\n",
    "\n",
    "best_dna = None\n",
    "\n",
    "\n",
    "for i in range(num_iters):\n",
    "    \n",
    "    if i > 0:\n",
    "        \n",
    "        dna_pool = offspring_creation(dna_pool,3)\n",
    "        \n",
    "    dna2score = {}\n",
    "    \n",
    "    for dna in dna_pool:\n",
    "        current_map = {}\n",
    "        \n",
    "        for k , v in zip(letters1, dna):\n",
    "            \n",
    "            current_map[k] = v\n",
    "            \n",
    "        decoded_message = decode_message(encoded_message, current_map)\n",
    "        score = sequence_of_words(decoded_message)\n",
    "        \n",
    "        \n",
    "        dna2score[''.join(dna)] = score\n",
    "        \n",
    "        if score > best_score:\n",
    "            best_dna = dna\n",
    "            best_map = current_map\n",
    "            best_score = score\n",
    "            \n",
    "    scores[i] = np.mean(list(dna2score.values()))\n",
    "    \n",
    "    # keep the best 5 dna\n",
    "    # also turn them back into list of single chars\n",
    "    sorted_dna = sorted(dna2score.items(), key=lambda x: x[1], reverse=True)\n",
    "    dna_pool = [list(k) for k, v in sorted_dna[:5]]\n",
    "    \n",
    "    \n",
    "    if i % 200 == 0:\n",
    "        print(\"iter:\", i, \"score:\", scores[i], \"best so far:\", best_score)"
   ]
  },
  {
   "cell_type": "code",
   "execution_count": 257,
   "metadata": {},
   "outputs": [
    {
     "name": "stdout",
     "output_type": "stream",
     "text": [
      "decoded message: -1129.482429601682\n",
      "True message: -1269.7788046428575\n",
      "True: j, Pred: z\n",
      "True: q, Pred: j\n",
      "True: z, Pred: q\n"
     ]
    }
   ],
   "source": [
    "# Use best score\n",
    "\n",
    "decoded_message = decode_message(encoded_message, best_map)\n",
    "\n",
    "\n",
    "print(\"decoded message:\",sequence_words_prob(decoded_message))\n",
    "print(\"True message:\",sequence_words_prob(regex.sub('',original_message.lower())))\n",
    "\n",
    "\n",
    "\n",
    "# Letters wrong predicted\n",
    "\n",
    "for true, v in true_mapping.items():\n",
    "    pred = best_map[v]\n",
    "    if true != pred:\n",
    "        print(\"True: %s, Pred: %s\" %(true,pred))"
   ]
  },
  {
   "cell_type": "code",
   "execution_count": 258,
   "metadata": {},
   "outputs": [
    {
     "name": "stdout",
     "output_type": "stream",
     "text": [
      "Decoded message:\n",
      " my cabby drove fast  i don t think i ever drove faster  but the others\n",
      "were there before us  the cab and the landau with their steaming\n",
      "horses were in front of the door when i arrived  i paid the man and\n",
      "hurried into the church  there was not a soul there save the two whom\n",
      "i had followed and a surpliced clergyman  who seemed to be\n",
      "expostulating with them  they were all three standing in a knot in\n",
      "front of the altar  i lounged up the side aisle like any other idler\n",
      "who has dropped into a church  suddenly  to my surprise  the three at\n",
      "the altar faced round to me  and godfrey norton came running as hard\n",
      "as he could towards me\n",
      "\n",
      "True message:\n",
      " My cabby drove fast. I don't think I ever drove faster, but the others\n",
      "were there before us. The cab and the landau with their steaming horses\n",
      "were in front of the door when I arrived. I paid the man and hurried\n",
      "into the church. There was not a soul there save the two whom I had\n",
      "followed and a surpliced clergyman, who seemed to be expostulating with\n",
      "them. They were all three standing in a knot in front of the altar. I\n",
      "lounged up the side aisle like any other idler who has dropped into a\n",
      "church. Suddenly, to my surprise, the three at the altar faced round to\n",
      "me, and Godfrey Norton came running as hard as he could towards me.\n",
      "\n"
     ]
    }
   ],
   "source": [
    "# print the final decoded message\n",
    "\n",
    "print(\"Decoded message:\\n\", textwrap.fill(decoded_message))\n",
    "\n",
    "print(\"\\nTrue message:\\n\", original_message)"
   ]
  },
  {
   "cell_type": "code",
   "execution_count": 259,
   "metadata": {},
   "outputs": [
    {
     "data": {
      "image/png": "[encoded data removed]",
      "text/plain": [
       "<Figure size 432x288 with 1 Axes>"
      ]
     },
     "metadata": {
      "needs_background": "light"
     },
     "output_type": "display_data"
    }
   ],
   "source": [
    "plt.plot(scores)\n",
    "plt.show()"
   ]
  }
 ],
 "metadata": {
  "kernelspec": {
   "display_name": "Python 3",
   "language": "python",
   "name": "python3"
  },
  "language_info": {
   "codemirror_mode": {
    "name": "ipython",
    "version": 3
   },
   "file_extension": ".py",
   "mimetype": "text/x-python",
   "name": "python",
   "nbconvert_exporter": "python",
   "pygments_lexer": "ipython3",
   "version": "3.7.4"
  }
 },
 "nbformat": 4,
 "nbformat_minor": 4
}
